{
  "nbformat": 4,
  "nbformat_minor": 0,
  "metadata": {
    "colab": {
      "provenance": [],
      "authorship_tag": "ABX9TyMHfmMjyivRmJ0JvTjMgCSA",
      "include_colab_link": true
    },
    "kernelspec": {
      "name": "python3",
      "display_name": "Python 3"
    },
    "language_info": {
      "name": "python"
    }
  },
  "cells": [
    {
      "cell_type": "markdown",
      "metadata": {
        "id": "view-in-github",
        "colab_type": "text"
      },
      "source": [
        "<a href=\"https://colab.research.google.com/github/VenkataramanSuriya/ACDC-Data-Cardiac-MRI---DL-/blob/main/50_Efficient_Voice_Assistant_Development_using_Python.ipynb\" target=\"_parent\"><img src=\"https://colab.research.google.com/assets/colab-badge.svg\" alt=\"Open In Colab\"/></a>"
      ]
    },
    {
      "cell_type": "markdown",
      "source": [
        "# **50. Efficient Voice Assistant Development using Python**"
      ],
      "metadata": {
        "id": "ituW0xnYUctb"
      }
    },
    {
      "cell_type": "markdown",
      "source": [
        "# Only An Voice Assistant Code"
      ],
      "metadata": {
        "id": "ZqlpmDFhUO-e"
      }
    },
    {
      "cell_type": "markdown",
      "source": [
        "pip install speech_recognition\n",
        "pip install gtts\n",
        "pip install pydub\n",
        "pip install pyautogui\n",
        "pip install webbrowser"
      ],
      "metadata": {
        "id": "gt2CoYrPJOLx"
      }
    },
    {
      "cell_type": "code",
      "source": [
        "pip install SpeechRecognition"
      ],
      "metadata": {
        "colab": {
          "base_uri": "https://localhost:8080/"
        },
        "id": "wOcvl4O_Hxmm",
        "outputId": "0f66062a-ede2-4578-e112-d93c4e5bc22d"
      },
      "execution_count": null,
      "outputs": [
        {
          "output_type": "stream",
          "name": "stdout",
          "text": [
            "Requirement already satisfied: SpeechRecognition in /usr/local/lib/python3.10/dist-packages (3.10.1)\n",
            "Requirement already satisfied: requests>=2.26.0 in /usr/local/lib/python3.10/dist-packages (from SpeechRecognition) (2.31.0)\n",
            "Requirement already satisfied: typing-extensions in /usr/local/lib/python3.10/dist-packages (from SpeechRecognition) (4.5.0)\n",
            "Requirement already satisfied: charset-normalizer<4,>=2 in /usr/local/lib/python3.10/dist-packages (from requests>=2.26.0->SpeechRecognition) (3.3.2)\n",
            "Requirement already satisfied: idna<4,>=2.5 in /usr/local/lib/python3.10/dist-packages (from requests>=2.26.0->SpeechRecognition) (3.6)\n",
            "Requirement already satisfied: urllib3<3,>=1.21.1 in /usr/local/lib/python3.10/dist-packages (from requests>=2.26.0->SpeechRecognition) (2.0.7)\n",
            "Requirement already satisfied: certifi>=2017.4.17 in /usr/local/lib/python3.10/dist-packages (from requests>=2.26.0->SpeechRecognition) (2023.11.17)\n"
          ]
        }
      ]
    },
    {
      "cell_type": "code",
      "source": [
        "pip install gTTS"
      ],
      "metadata": {
        "colab": {
          "base_uri": "https://localhost:8080/"
        },
        "id": "_dR_7Dh1IAf8",
        "outputId": "7b1f9e71-b919-485e-f495-488639e022ee"
      },
      "execution_count": null,
      "outputs": [
        {
          "output_type": "stream",
          "name": "stdout",
          "text": [
            "Requirement already satisfied: gTTS in /usr/local/lib/python3.10/dist-packages (2.5.0)\n",
            "Requirement already satisfied: requests<3,>=2.27 in /usr/local/lib/python3.10/dist-packages (from gTTS) (2.31.0)\n",
            "Requirement already satisfied: click<8.2,>=7.1 in /usr/local/lib/python3.10/dist-packages (from gTTS) (8.1.7)\n",
            "Requirement already satisfied: charset-normalizer<4,>=2 in /usr/local/lib/python3.10/dist-packages (from requests<3,>=2.27->gTTS) (3.3.2)\n",
            "Requirement already satisfied: idna<4,>=2.5 in /usr/local/lib/python3.10/dist-packages (from requests<3,>=2.27->gTTS) (3.6)\n",
            "Requirement already satisfied: urllib3<3,>=1.21.1 in /usr/local/lib/python3.10/dist-packages (from requests<3,>=2.27->gTTS) (2.0.7)\n",
            "Requirement already satisfied: certifi>=2017.4.17 in /usr/local/lib/python3.10/dist-packages (from requests<3,>=2.27->gTTS) (2023.11.17)\n"
          ]
        }
      ]
    },
    {
      "cell_type": "code",
      "source": [
        "pip install pydub"
      ],
      "metadata": {
        "colab": {
          "base_uri": "https://localhost:8080/"
        },
        "id": "wQzFpB_rIbGH",
        "outputId": "b7b02841-93de-43db-978e-f7b604e2651e"
      },
      "execution_count": null,
      "outputs": [
        {
          "output_type": "stream",
          "name": "stdout",
          "text": [
            "Requirement already satisfied: pydub in /usr/local/lib/python3.10/dist-packages (0.25.1)\n"
          ]
        }
      ]
    },
    {
      "cell_type": "code",
      "source": [
        "pip install PyAutoGUI"
      ],
      "metadata": {
        "colab": {
          "base_uri": "https://localhost:8080/"
        },
        "id": "WBC-WxIHJm17",
        "outputId": "f90e693f-547b-4bed-b15d-df1dc1e4f247"
      },
      "execution_count": null,
      "outputs": [
        {
          "output_type": "stream",
          "name": "stdout",
          "text": [
            "Requirement already satisfied: PyAutoGUI in /usr/local/lib/python3.10/dist-packages (0.9.54)\n",
            "Requirement already satisfied: pymsgbox in /usr/local/lib/python3.10/dist-packages (from PyAutoGUI) (1.0.9)\n",
            "Requirement already satisfied: pytweening>=1.0.4 in /usr/local/lib/python3.10/dist-packages (from PyAutoGUI) (1.0.7)\n",
            "Requirement already satisfied: pyscreeze>=0.1.21 in /usr/local/lib/python3.10/dist-packages (from PyAutoGUI) (0.1.30)\n",
            "Requirement already satisfied: pygetwindow>=0.0.5 in /usr/local/lib/python3.10/dist-packages (from PyAutoGUI) (0.0.9)\n",
            "Requirement already satisfied: mouseinfo in /usr/local/lib/python3.10/dist-packages (from PyAutoGUI) (0.1.3)\n",
            "Requirement already satisfied: python3-Xlib in /usr/local/lib/python3.10/dist-packages (from PyAutoGUI) (0.15)\n",
            "Requirement already satisfied: pyrect in /usr/local/lib/python3.10/dist-packages (from pygetwindow>=0.0.5->PyAutoGUI) (0.2.0)\n",
            "Requirement already satisfied: Pillow>=9.2.0 in /usr/local/lib/python3.10/dist-packages (from pyscreeze>=0.1.21->PyAutoGUI) (9.4.0)\n",
            "Requirement already satisfied: pyperclip in /usr/local/lib/python3.10/dist-packages (from mouseinfo->PyAutoGUI) (1.8.2)\n"
          ]
        }
      ]
    },
    {
      "cell_type": "code",
      "source": [
        "pip install pycopy-webbrowser"
      ],
      "metadata": {
        "colab": {
          "base_uri": "https://localhost:8080/"
        },
        "id": "3S_dPl1NJvhc",
        "outputId": "abaeae1c-2ec6-4355-904f-589987049a36"
      },
      "execution_count": null,
      "outputs": [
        {
          "output_type": "stream",
          "name": "stdout",
          "text": [
            "Collecting pycopy-webbrowser\n",
            "  Using cached pycopy-webbrowser-0.0.0.tar.gz (631 bytes)\n",
            "\u001b[31mERROR: pycopy-webbrowser from https://files.pythonhosted.org/packages/40/6f/3534aa5470f69aede4ec969a4f64981892e5bd838ea8e148d8d7ee52f1bc/pycopy-webbrowser-0.0.0.tar.gz does not appear to be a Python project: neither 'setup.py' nor 'pyproject.toml' found.\u001b[0m\u001b[31m\n",
            "\u001b[0m"
          ]
        }
      ]
    },
    {
      "cell_type": "code",
      "source": [
        "pip install pyvirtualdisplay"
      ],
      "metadata": {
        "colab": {
          "base_uri": "https://localhost:8080/"
        },
        "id": "xJMAm5JZME9A",
        "outputId": "6a53b7c2-44f2-4725-c865-7e072dd8e1b7"
      },
      "execution_count": null,
      "outputs": [
        {
          "output_type": "stream",
          "name": "stdout",
          "text": [
            "Requirement already satisfied: pyvirtualdisplay in /usr/local/lib/python3.10/dist-packages (3.0)\n"
          ]
        }
      ]
    },
    {
      "cell_type": "code",
      "source": [
        "pip install winaudio"
      ],
      "metadata": {
        "colab": {
          "base_uri": "https://localhost:8080/"
        },
        "id": "h9PKoDM2J_Wh",
        "outputId": "2f5a3ff7-f5d9-4eac-bad4-06d578fb7f9b"
      },
      "execution_count": null,
      "outputs": [
        {
          "output_type": "stream",
          "name": "stdout",
          "text": [
            "Requirement already satisfied: winaudio in /usr/local/lib/python3.10/dist-packages (1.0.6)\n"
          ]
        }
      ]
    },
    {
      "cell_type": "code",
      "source": [
        "import speech_recognition as sr\n",
        "from gtts import gTTS\n",
        "from pydub import AudioSegment\n",
        "import pydub.playback\n",
        "from pyvirtualdisplay import Display  # Add this import\n",
        "import pyautogui\n",
        "import webbrowser\n",
        "\n",
        "def listen_for_command():\n",
        "    recognizer = sr.Recognizer()\n",
        "\n",
        "    with sr.Microphone() as source:\n",
        "        print(\"Listening for commands...\")\n",
        "        recognizer.adjust_for_ambient_noise(source)\n",
        "        audio = recognizer.listen(source)\n",
        "\n",
        "    try:\n",
        "        command = recognizer.recognize_google(audio)\n",
        "        print(\"You said:\", command)\n",
        "        return command.lower()\n",
        "    except sr.UnknownValueError:\n",
        "        print(\"Could not understand audio. Please try again.\")\n",
        "        return None\n",
        "    except sr.RequestError:\n",
        "        print(\"Unable to access the Google Speech Recognition API.\")\n",
        "        return None\n",
        "\n",
        "def respond(response_text):\n",
        "    print(response_text)\n",
        "    tts = gTTS(text=response_text, lang='en')\n",
        "    tts.save(\"response.mp3\")\n",
        "    sound = AudioSegment.from_mp3(\"response.mp3\")\n",
        "    sound.export(\"response.wav\", format=\"wav\")\n",
        "    pydub.playback.play(sound)\n",
        "\n",
        "tasks = []\n",
        "listening_to_task = False\n",
        "\n",
        "def main():\n",
        "    global tasks\n",
        "    global listening_to_task\n",
        "\n",
        "    with Display():  # Create a virtual display\n",
        "        while True:\n",
        "            command = listen_for_command()\n",
        "\n",
        "            trigger_keyword = \"bologna\"\n",
        "\n",
        "            if command and trigger_keyword in command:\n",
        "                if listening_to_task:\n",
        "                    tasks.append(command)\n",
        "                    listening_to_task = False\n",
        "                    respond(\"Adding \" + command + \" to your task list. You have \" + str(len(tasks)) + \" currently in your list.\")\n",
        "                elif \"add a task\" in command:\n",
        "                    listening_to_task = True\n",
        "                    respond(\"Sure, what is the task?\")\n",
        "                elif \"list tasks\" in command:\n",
        "                    respond(\"Sure. Your tasks are:\")\n",
        "                    for task in tasks:\n",
        "                        respond(task)\n",
        "                elif \"take a screenshot\" in command:\n",
        "                    pyautogui.screenshot(\"screenshot.png\")\n",
        "                    respond(\"I took a screenshot for you.\")\n",
        "                elif \"open chrome\" in command:\n",
        "                    respond(\"Opening Chrome.\")\n",
        "                    webbrowser.open(\"http://www.youtube.com/@JakeEh\")\n",
        "                elif \"exit\" in command:\n",
        "                    respond(\"Goodbye!\")\n",
        "                    break\n",
        "                else:\n",
        "                    respond(\"Sorry, I'm not sure how to handle that command.\")\n",
        "\n",
        "if __name__ == \"__main__\":\n",
        "    respond(\"This has been building a virtual assistant with Python\")\n",
        "    main()\n"
      ],
      "metadata": {
        "id": "Lie8rBr3E-2h"
      },
      "execution_count": null,
      "outputs": []
    }
  ]
}